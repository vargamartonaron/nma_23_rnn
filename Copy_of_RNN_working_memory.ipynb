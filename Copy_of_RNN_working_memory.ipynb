{
  "cells": [
    {
      "cell_type": "markdown",
      "metadata": {
        "id": "view-in-github",
        "colab_type": "text"
      },
      "source": [
        "<a href=\"https://colab.research.google.com/github/vargamartonaron/nma_23_rnn/blob/main/Copy_of_RNN_working_memory.ipynb\" target=\"_parent\"><img src=\"https://colab.research.google.com/assets/colab-badge.svg\" alt=\"Open In Colab\"/></a>"
      ]
    },
    {
      "cell_type": "code",
      "execution_count": 1,
      "metadata": {
        "execution": {},
        "id": "1S71SBv7v2mR"
      },
      "outputs": [],
      "source": [
        "import numpy as np\n",
        "import math\n",
        "from scipy import stats\n",
        "\n",
        "import matplotlib as mpl\n",
        "from matplotlib import pyplot as plt\n",
        "\n",
        "import torch\n",
        "from torch import nn\n",
        "from torch import optim"
      ]
    },
    {
      "cell_type": "code",
      "execution_count": 125,
      "metadata": {
        "execution": {},
        "id": "1IfN_hEpv2mT"
      },
      "outputs": [],
      "source": [
        "# Set some properties of the model. We'll store these in a dict so they're\n",
        "# easier to pass around or save.\n",
        "model = {}\n",
        "\n",
        "# properties of the recurrent pool:\n",
        "model['N'] = 1000  # number of neurons\n",
        "\n",
        "# model['g'] = 0.95  # gain of synaptic weights in pool\n",
        "model['g_ex'] = 0.95  # gain of synaptic weights in pool\n",
        "model['g_in'] = 0.95  # gain of synaptic weights in pool\n",
        "\n",
        "model['sp'] = 0.25  # fraction of weights that are nonzero\n",
        "model['tau'] = 20 # neural membrane time constant in ms\n",
        "model['dt'] = 0.1  # simulation timestep in ms\n",
        "model['nonlin'] = lambda x: np.tanh(x)  # firing rate nonlinearity for pool units\n",
        "\n",
        "# properties of the input layer:\n",
        "# a note: we're going to encode the \"value\" of the input by the identity of the\n",
        "# active input layer units. We'll use one-hot encoding: for each input step\n",
        "# during simulation, one unit will be activated with \"firing rate\" 1, and the\n",
        "# rest will be set to firing rate 0 (adjust gIn to change the scaling of input\n",
        "# to the recurrent pool.)\n",
        "# Note 1: This is just one way of setting up input- are there other approaches\n",
        "# that would improve memory capacity?\n",
        "# Note 2: Burn-in time is especially important if your model has g>1, in which\n",
        "# case neurons will be spontaneously active.\n",
        "model['nIn'] = 20  # size of the input layer\n",
        "model['gIn'] = 10.0  # gain of the input weights\n",
        "model['spIn'] = 0.05  # sparsity of input->pool connectivity\n",
        "model['burnIn'] = 10  # time before input starts\n",
        "model['durIn'] = 1  # time for which an input is active in ms\n",
        "model['ISI'] = 0  # time between inputs in ms\n",
        "model['nonlinIn'] = lambda x: x  # best to keep the input linear\n",
        "\n",
        "burnIn_steps = int(model['burnIn'] / model['dt'])\n",
        "durIn_steps = int(model['durIn'] / model['dt'])\n",
        "ISI_steps = int(model['ISI'] / model['dt'])"
      ]
    },
    {
      "cell_type": "code",
      "execution_count": 3,
      "metadata": {
        "execution": {},
        "id": "aB8OlOxNv2mU"
      },
      "outputs": [],
      "source": [
        "# Create the synaptic weight matrix.\n",
        "# Normalizing weights by sqrt(N*sparsity) keeps the eigenvalue spectrum\n",
        "# invariant to the size of the population N.\n",
        "randMat  = np.random.normal(0, 1, size=(model['N'], model['N']))\n",
        "spMat  = np.random.uniform(0, 1, size=(model['N'], model['N'])) <= model['sp']\n",
        "\n",
        "# Uniform gain\n",
        "# model['J'] = np.multiply(randMat, spMat) * model['g'] / math.sqrt(model['N'] * model['sp'])\n",
        "\n",
        "# Different excitatory and inhibitory gains\n",
        "model['J'] = np.multiply(randMat, spMat) / math.sqrt(model['N'] * model['sp'])\n",
        "model['J'] = np.where(model['J'] >= 0, model['J'] * model['g_ex'], model['J'] * model['g_in'])\n",
        "\n",
        "# Create the input weight matrix.\n",
        "randMatIn = np.random.normal(0, 1, size=(model['N'], model['nIn']))\n",
        "spMatIn = np.random.uniform(0, 1, size=(model['N'], model['nIn'])) <= model['spIn']\n",
        "model['Jin'] = np.multiply(randMatIn, spMatIn) * model['gIn'] / math.sqrt(model['nIn'] * model['spIn'])"
      ]
    },
    {
      "cell_type": "code",
      "source": [
        "print(model['Jin'].shape)\n",
        "print(model['J'].shape)"
      ],
      "metadata": {
        "id": "X37sOIe4IVxr",
        "colab": {
          "base_uri": "https://localhost:8080/"
        },
        "outputId": "ae185bc2-8004-48f1-e3c3-1f376249aab1"
      },
      "execution_count": 4,
      "outputs": [
        {
          "output_type": "stream",
          "name": "stdout",
          "text": [
            "(1000, 20)\n",
            "(1000, 1000)\n"
          ]
        }
      ]
    },
    {
      "cell_type": "code",
      "execution_count": 5,
      "metadata": {
        "execution": {},
        "id": "Z8_wcsw6v2mV"
      },
      "outputs": [],
      "source": [
        "# Define a couple helper functions for simulation.\n",
        "\n",
        "def step(firing_rates, input_layer, model):\n",
        "  # The simulation function. We use Euler's method to simulate the evolution of\n",
        "  # model neuron firing rates given the input_layer firing rates.\n",
        "\n",
        "  timestep = math.exp(-model['dt']/model['tau'])\n",
        "  vIn = np.matmul(model['J'], firing_rates) \\\n",
        "        + np.matmul(model['Jin'], model['nonlinIn'](input_layer))\n",
        "  updated_rates = model['nonlin'](vIn + (firing_rates - vIn) * timestep)\n",
        "  # sum = W @ X1 + Win @ input\n",
        "  # X2 = activation(sum + (X1 - sum)*dt)\n",
        "  # X2 = activation(sum)\n",
        "\n",
        "  return updated_rates\n",
        "\n",
        "\n",
        "def make_input(sequence_length, model):\n",
        "  # Generates a sequence of inputs according to the parameters in model. Returns\n",
        "  # the sequence both as a one-hot encoding and as a sequence of integer values.\n",
        "\n",
        "  input_stream = [0] * burnIn_steps\n",
        "\n",
        "  for i in range(sequence_length):\n",
        "    val = np.random.randint(0, model['nIn']) + 1\n",
        "    for t in range(ISI_steps):\n",
        "      input_stream.append(0)\n",
        "    for t in range(durIn_steps):\n",
        "      input_stream.append(val)\n",
        "\n",
        "  input_stream = np.array(input_stream)\n",
        "\n",
        "  onehot = np.zeros((model['nIn'] + 1, input_stream.size))\n",
        "  onehot[input_stream, np.arange(input_stream.size)] = 1.0\n",
        "  onehot = onehot[1:, :]\n",
        "\n",
        "  return onehot, input_stream"
      ]
    },
    {
      "cell_type": "code",
      "execution_count": 6,
      "metadata": {
        "execution": {},
        "id": "n2BHqyemv2mV"
      },
      "outputs": [],
      "source": [
        "# Look at an example input stream.\n",
        "\n",
        "# onehot, stream = make_input(50, model)\n",
        "\n",
        "# fig, ax = plt.subplots(1, 2, figsize=(12, 5))\n",
        "# omit = int(model['burnIn']/model['dt']) # don't plot the burn-in period\n",
        "# ax[0].plot(np.arange(len(stream) - omit) * model['dt'], stream[omit:])\n",
        "# ax[0].set_xlabel('time (ms)')\n",
        "# ax[0].set_ylabel('input value')\n",
        "\n",
        "# ax[1].imshow(onehot[:, omit:], aspect='auto')\n",
        "# ax[1].set_xlabel('time (ms)')\n",
        "# ax[1].set_ylabel('input one-hot encoding')\n",
        "# fig.show()"
      ]
    },
    {
      "cell_type": "code",
      "execution_count": 7,
      "metadata": {
        "execution": {},
        "id": "1Tyh7zycv2mW"
      },
      "outputs": [],
      "source": [
        "# # Take a look at the eigenvalue spectrum of J.\n",
        "# w, v = np.linalg.eig(model['J'])\n",
        "\n",
        "# fig, ax = plt.subplots(1, 2, figsize=(12, 5))\n",
        "# showCount = 50  # portion of J to actually show (for readability)\n",
        "# h = ax[0].imshow(model['J'][:showCount,:showCount])\n",
        "# ax[0].set_title('Sample from weight matrix J')\n",
        "# ax[0].set_xlabel('presynaptic neuron')\n",
        "# ax[0].set_ylabel('postsynaptic neuron')\n",
        "# plt.colorbar(h, ax=ax[0])\n",
        "\n",
        "# ax[1].plot(np.real(w),np.imag(w),'.')\n",
        "# ax[1].plot(np.sin(np.linspace(0,2*math.pi,100)),\n",
        "#            np.cos(np.linspace(0,2*math.pi,100)))  # circle with radius 1\n",
        "# ax[1].set_title('Eigenvalue spectrum of J')\n",
        "# ax[1].set_xlabel('real component')\n",
        "# ax[1].set_ylabel('imaginary component')\n",
        "# fig.show()"
      ]
    },
    {
      "cell_type": "code",
      "execution_count": 16,
      "metadata": {
        "execution": {},
        "id": "GUEw1aj9v2mW",
        "colab": {
          "base_uri": "https://localhost:8080/"
        },
        "outputId": "e83db848-66a9-4cf5-9e67-54010b905c1b"
      },
      "outputs": [
        {
          "output_type": "stream",
          "name": "stdout",
          "text": [
            "(20, 50100) (50100,) (1000, 50100)\n"
          ]
        }
      ],
      "source": [
        "# Simulate the model activity.\n",
        "\n",
        "# generate the input to the model\n",
        "n_stimuli = 5000\n",
        "onehot, input_stream = make_input(n_stimuli, model)\n",
        "\n",
        "# initialize the firing rates randomly\n",
        "firing_rates = np.zeros((model['N'], len(input_stream)))\n",
        "firing_rates[:, 0] = np.random.uniform(0, 0.1, size=(model['N']))\n",
        "\n",
        "for t in range(len(input_stream)-1):\n",
        "  firing_rates[:,t+1] = step(firing_rates[:,t], onehot[:,t], model)\n",
        "\n",
        "\n",
        "# fig, ax = plt.subplots(2, 1, figsize=(8, 12))\n",
        "# simulation_time = np.arange(len(input_stream))*model['dt'] - model['burnIn']\n",
        "# ax[0].plot(simulation_time, input_stream)\n",
        "# ax[0].set_xlabel('Time (ms)')\n",
        "# ax[0].set_ylabel('Input value')\n",
        "\n",
        "# extents = [simulation_time[0],simulation_time[-1], 0, model['N']]\n",
        "# ax[1].imshow(firing_rates, aspect='auto', extent=extents)\n",
        "# ax[1].set_xlabel('Time (ms)')\n",
        "# ax[1].set_ylabel('Neurons')\n",
        "# fig.show()\n",
        "\n",
        "# fig, ax = plt.subplots(1, 2, figsize=(12, 5))\n",
        "# omit = int(model['burnIn']/model['dt']) # don't plot the burn-in period\n",
        "# ax[0].plot(np.arange(len(input_stream) - omit) * model['dt'], input_stream[omit:])\n",
        "# ax[0].set_xlabel('time (ms)')\n",
        "# ax[0].set_ylabel('input value')\n",
        "\n",
        "# ax[1].imshow(onehot[:, omit:], aspect='auto')\n",
        "# ax[1].set_xlabel('time (ms)')\n",
        "# ax[1].set_ylabel('input one-hot encoding')\n",
        "# fig.show()\n",
        "\n",
        "print(onehot.shape, input_stream.shape, firing_rates.shape)"
      ]
    },
    {
      "cell_type": "code",
      "source": [
        "def take_data(steps_back=0, inputs_back=0):\n",
        "\n",
        "  # Make data to analyze\n",
        "\n",
        "\n",
        "  input_0_idx = np.arange( burnIn_steps + durIn_steps*(1+inputs_back) - 1, onehot.shape[1], durIn_steps)\n",
        "  resp_0 = firing_rates[:,input_0_idx - steps_back].T\n",
        "  stimuli = onehot[:,input_0_idx - (durIn_steps*inputs_back)].T\n",
        "\n",
        "  # print(np.nonzero(stimuli[:9]))\n",
        "  # print(list(resp_0[:5,:3]))\n",
        "\n",
        "  resp_tensor = torch.tensor(resp_0, dtype=torch.float32)\n",
        "  stimuli_tensor = torch.tensor(stimuli, dtype=torch.float32)  # add singleton dimension to make a column vector\n",
        "\n",
        "  return split_train_test(resp_tensor, stimuli_tensor)\n",
        "# take_data()"
      ],
      "metadata": {
        "id": "Hxe8CiER0bUj",
        "colab": {
          "base_uri": "https://localhost:8080/"
        },
        "outputId": "355516d9-933a-47ac-a5d8-fde5be253e4d"
      },
      "execution_count": 152,
      "outputs": [
        {
          "output_type": "stream",
          "name": "stdout",
          "text": [
            "(array([0, 1, 2, 3, 4, 5, 6, 7, 8]), array([ 0, 11, 11, 19,  6, 11, 19, 12, 15]))\n",
            "[array([0.05242106, 0.02224967, 0.03766353]), array([0.04794423, 0.02184907, 0.02994279]), array([0.03703573, 0.02216396, 0.02260274]), array([0.02583639, 0.0203626 , 0.01772695]), array([0.01936732, 0.01694172, 0.01434202])]\n"
          ]
        }
      ]
    },
    {
      "cell_type": "code",
      "source": [
        "# ## Set random seeds for reproducibility\n",
        "\n",
        "def split_train_test(resp_tensor, stimuli_tensor):\n",
        "  n_stimuli = len(stimuli_tensor)\n",
        "\n",
        "  # Split data into training set and testing set\n",
        "  n_train = int(0.6 * n_stimuli)  # use 60% of all data for training set\n",
        "  ishuffle = torch.randperm(n_stimuli)\n",
        "  itrain = ishuffle[:n_train]  # indices of data samples to include in training set\n",
        "  itest = ishuffle[n_train:]  # indices of data samples to include in testing set\n",
        "\n",
        "  resp_train = resp_tensor[itrain]\n",
        "  stimuli_train = stimuli_tensor[itrain]\n",
        "  resp_test = resp_tensor[itest]\n",
        "  stimuli_test = stimuli_tensor[itest]\n",
        "\n",
        "  # print(stimuli_test.shape, resp_test.shape, stimuli_train.shape, resp_train.shape)\n",
        "\n",
        "  return resp_train, stimuli_train, resp_test, stimuli_test"
      ],
      "metadata": {
        "id": "q8s1LxCgyMa1"
      },
      "execution_count": 84,
      "outputs": []
    },
    {
      "cell_type": "code",
      "source": [
        "class DeepNetSoftmax(nn.Module):\n",
        "  \"\"\" network without hidden layers and softmax output\"\"\"\n",
        "\n",
        "  def __init__(self, n_inputs, n_hidden, n_outputs):\n",
        "    super().__init__()  # needed to invoke the properties of the parent class nn.Module\n",
        "    self.in_layer = nn.Linear(n_inputs, n_hidden) # neural activity --> hidden units\n",
        "    self.in_ReLU = nn.ReLU()\n",
        "    self.hidden_layer = nn.Linear(n_hidden, n_outputs) # hidden units --> output\n",
        "\n",
        "    # self.in_layer = nn.Linear(n_inputs, n_outputs) # neural activity --> hidden units\n",
        "    # # self.softmax = nn.Softmax(dim=1)\n",
        "\n",
        "  def forward(self, r):\n",
        "\n",
        "    h = self.in_ReLU(self.in_layer(r))\n",
        "    y = self.hidden_layer(h) # r is size (n_inputs, )\n",
        "\n",
        "    # y = self.in_layer(r)\n",
        "\n",
        "    return y"
      ],
      "metadata": {
        "id": "oIuKS0pcxC_l"
      },
      "execution_count": 122,
      "outputs": []
    },
    {
      "cell_type": "code",
      "source": [
        "def plot_train_loss(output_keys, output_values):\n",
        "\n",
        "  print(f'{k}: {v[-1]}\\n' for (k, v) in (output_keys, output_values))\n",
        "\n",
        "  for (key, value) in (output_keys, output_values):\n",
        "    plt.plot(value, label=key)\n",
        "  # plt.plot(train_loss, label='train loss')\n",
        "  # plt.plot(test_loss, label='test loss')\n",
        "  # plt.plot(train_accuracy, label='train accuracy')\n",
        "  # plt.plot(test_accuracy, label='test accuracy')\n",
        "  plt.xlim([0, None])\n",
        "  plt.ylim([0, None])\n",
        "  plt.legend(loc='best')\n",
        "  plt.xlabel('iterations of gradient descent')\n",
        "  plt.ylabel('mean squared error')\n",
        "  plt.show()\n",
        "\n",
        ""
      ],
      "metadata": {
        "id": "I6_aLk_1Ndxp"
      },
      "execution_count": 78,
      "outputs": []
    },
    {
      "cell_type": "code",
      "source": [
        "def plot_accuracy(accuracies, title=None):\n",
        "\n",
        "  for i in range(len(accuracies)):\n",
        "    # print(f'-{i}: {accuracies[i][-1]}\\n')\n",
        "\n",
        "    plt.plot(accuracies[i], label=f'At step t-{i}')\n",
        "  # plt.plot(train_loss, label='train loss')\n",
        "  # plt.plot(test_loss, label='test loss')\n",
        "  # plt.plot(train_accuracy, label='train accuracy')\n",
        "  # plt.plot(test_accuracy, label='test accuracy')\n",
        "  plt.xlim([0, None])\n",
        "  plt.ylim([0, None])\n",
        "  plt.legend(loc='best')\n",
        "  plt.xlabel('iterations of gradient descent')\n",
        "  plt.ylabel('accuracy')\n",
        "  plt.title(title)\n",
        "  plt.show()"
      ],
      "metadata": {
        "id": "mmHGZ3g4HLeP"
      },
      "execution_count": 133,
      "outputs": []
    },
    {
      "cell_type": "code",
      "source": [
        "# compute network output from inputs in test_data\n",
        "def compute_accuracy(labels, out):\n",
        "  # out = net(data.unsqueeze(1))\n",
        "  # if out.shape != labels.shape:\n",
        "  #   labels = labels.unsqueeze(1)\n",
        "\n",
        "  my_hit = torch.argmax(out, 1)\n",
        "  true_hit =  torch.argmax(labels, 1)\n",
        "\n",
        "  hits = my_hit == true_hit\n",
        "  n_trials = labels.shape[0]\n",
        "\n",
        "  accuracy = sum(hits) / n_trials\n",
        "\n",
        "  return accuracy\n"
      ],
      "metadata": {
        "id": "fugk8cUii499"
      },
      "execution_count": 96,
      "outputs": []
    },
    {
      "cell_type": "code",
      "source": [
        "def train(net, loss_fn, train_data, train_labels, test_data, test_labels,\n",
        "          n_epochs=70, learning_rate=1e-0):\n",
        "\n",
        "  # Initialize PyTorch SGD optimizer\n",
        "  optimizer = optim.SGD(net.parameters(), lr=learning_rate)\n",
        "\n",
        "  # Placeholder to save the loss at each iteration\n",
        "  train_loss = []\n",
        "  test_loss = []\n",
        "  train_accuracy = []\n",
        "  test_accuracy = []\n",
        "\n",
        "  # Loop over epochs\n",
        "  for i in range(n_epochs):\n",
        "\n",
        "    # compute network output from inputs in train_data\n",
        "    out = net(train_data)  # compute network output from inputs in train_data\n",
        "\n",
        "    # print(out.shape, train_labels.shape)\n",
        "    # evaluate loss function\n",
        "    loss = loss_fn(out, train_labels)\n",
        "\n",
        "    # Clear previous gradients\n",
        "    optimizer.zero_grad()\n",
        "\n",
        "    # Compute gradients\n",
        "    loss.backward()\n",
        "\n",
        "    # Update weights\n",
        "    optimizer.step()\n",
        "\n",
        "    # Store current value of loss\n",
        "    train_loss.append(loss.item())  # .item() needed to transform the tensor output of loss_fn to a scalar\n",
        "    train_accuracy.append(compute_accuracy(train_labels, out))\n",
        "\n",
        "    with torch.no_grad():\n",
        "      # compute network output from inputs in test_data\n",
        "      out = net(test_data)\n",
        "\n",
        "      # evaluate loss function\n",
        "      loss = loss_fn(out, test_labels)\n",
        "      test_loss.append(loss.item())\n",
        "\n",
        "      # evaluate accuracy\n",
        "      test_accuracy.append(compute_accuracy(test_labels, out))\n",
        "\n",
        "  return train_loss, test_loss, train_accuracy, test_accuracy\n",
        "\n",
        "\n",
        "# Set random seeds for reproducibility\n",
        "# np.random.seed(1)\n",
        "# torch.manual_seed(1)\n",
        "\n",
        "n_hidden = 10\n",
        "# Initialize network with 1000 inputs and no hidden layers\n",
        "net = DeepNetSoftmax(model['N'], n_hidden, model['nIn'])\n",
        "\n",
        "# Initialize cross entropy loss function\n",
        "loss_fn = nn.CrossEntropyLoss()\n",
        "\n",
        "output_keys = ['train_loss', 'test_loss', 'train_accuracy', 'test_accuracy']\n",
        "outputs = {k: [] for k in output_keys}\n",
        "num_trials = 5\n",
        "# steps_back = 1\n",
        "\n",
        "for i in range(num_trials):\n",
        "\n",
        "  data = take_data(inputs_back=i)   #resp_train, stimuli_train, resp_test, stimuli_test\n",
        "  print(f'-{i}', torch.nonzero(data[3][:3]), '\\nn')\n",
        "  output_values = [*train(net, loss_fn, *data)]\n",
        "  output = dict(zip(output_keys, output_values))\n",
        "\n",
        "  outputs['train_accuracy'].append(output['train_accuracy'])\n",
        "  outputs['test_accuracy'].append(output['test_accuracy'])\n",
        "\n",
        "  # reset all parameters\n",
        "  for layer in net.children():\n",
        "    if hasattr(layer, 'reset_parameters'):\n",
        "        layer.reset_parameters()\n",
        "\n",
        "# Run gradient descent on data\n",
        "# train_loss, test_loss, train_accuracy, test_accuracy = train(net, loss_fn, resp_train, stimuli_train, resp_test, stimuli_test)\n",
        "# print(f'k: {v[-1]}\\ntest_loss: {test_loss[-1]}\\ntrain_accuracy: {train_accuracy[-1]}\\ntest_accuracy: {test_accuracy[-1]}')\n",
        "\n"
      ],
      "metadata": {
        "id": "OmO6-Ej8w1Nt",
        "colab": {
          "base_uri": "https://localhost:8080/"
        },
        "outputId": "b8659f74-4402-4f09-d222-795018883f9c"
      },
      "execution_count": 145,
      "outputs": [
        {
          "output_type": "stream",
          "name": "stdout",
          "text": [
            "-0 tensor([[ 0,  8],\n",
            "        [ 1, 15],\n",
            "        [ 2, 14]]) \n",
            "n\n",
            "-1 tensor([[0, 9],\n",
            "        [1, 6],\n",
            "        [2, 6]]) \n",
            "n\n",
            "-2 tensor([[ 0, 11],\n",
            "        [ 1, 19],\n",
            "        [ 2,  3]]) \n",
            "n\n"
          ]
        }
      ]
    },
    {
      "cell_type": "markdown",
      "metadata": {
        "execution": {},
        "id": "e5LW3QGCv2mX"
      },
      "source": [
        "Now: can you decode the model's input history from its firing rates?"
      ]
    },
    {
      "cell_type": "code",
      "source": [
        "# Plot the training and test loss over iterations of GD\n",
        "\n",
        "# plot_train_loss(output.keys(), output.values())\n",
        "plot_accuracy(outputs['train_accuracy'], title='train accuracies')\n",
        "plot_accuracy(outputs['test_accuracy'], title='test accuracies')"
      ],
      "metadata": {
        "colab": {
          "base_uri": "https://localhost:8080/",
          "height": 927
        },
        "id": "5_8zdmUX2i5S",
        "outputId": "90ef61fe-add8-4649-88e5-bb052b486247"
      },
      "execution_count": 139,
      "outputs": [
        {
          "output_type": "display_data",
          "data": {
            "text/plain": [
              "<Figure size 640x480 with 1 Axes>"
            ],
            "image/png": "[encoded data removed]"
          },
          "metadata": {}
        },
        {
          "output_type": "display_data",
          "data": {
            "text/plain": [
              "<Figure size 640x480 with 1 Axes>"
            ],
            "image/png": "[encoded data removed]"
          },
          "metadata": {}
        }
      ]
    },
    {
      "cell_type": "code",
      "source": [],
      "metadata": {
        "id": "guc9cwT3uqFv"
      },
      "execution_count": null,
      "outputs": []
    }
  ],
  "metadata": {
    "colab": {
      "provenance": [],
      "toc_visible": true,
      "include_colab_link": true
    },
    "kernel": {
      "display_name": "Python 3",
      "language": "python",
      "name": "python3"
    },
    "kernelspec": {
      "display_name": "Python 3",
      "name": "python3"
    },
    "language_info": {
      "codemirror_mode": {
        "name": "ipython",
        "version": 3
      },
      "file_extension": ".py",
      "mimetype": "text/x-python",
      "name": "python",
      "nbconvert_exporter": "python",
      "pygments_lexer": "ipython3",
      "version": "3.7.13"
    }
  },
  "nbformat": 4,
  "nbformat_minor": 0
}